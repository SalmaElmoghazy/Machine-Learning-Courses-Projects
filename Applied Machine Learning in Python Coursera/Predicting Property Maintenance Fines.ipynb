{
 "cells": [
  {
   "cell_type": "markdown",
   "metadata": {},
   "source": [
    "---\n",
    "\n",
    "_You are currently looking at **version 1.1** of this notebook. To download notebooks and datafiles, as well as get help on Jupyter notebooks in the Coursera platform, visit the [Jupyter Notebook FAQ](https://www.coursera.org/learn/python-machine-learning/resources/bANLa) course resource._\n",
    "\n",
    "---"
   ]
  },
  {
   "cell_type": "markdown",
   "metadata": {},
   "source": [
    "## Understanding and Predicting Property Maintenance Fines\n",
    "\n",
    "This assignment is based on a data challenge from the Michigan Data Science Team ([MDST](http://midas.umich.edu/mdst/)). \n",
    "\n",
    "The Michigan Data Science Team ([MDST](http://midas.umich.edu/mdst/)) and the Michigan Student Symposium for Interdisciplinary Statistical Sciences ([MSSISS](https://sites.lsa.umich.edu/mssiss/)) have partnered with the City of Detroit to help solve one of the most pressing problems facing Detroit - blight. [Blight violations](http://www.detroitmi.gov/How-Do-I/Report/Blight-Complaint-FAQs) are issued by the city to individuals who allow their properties to remain in a deteriorated condition. Every year, the city of Detroit issues millions of dollars in fines to residents and every year, many of these fines remain unpaid. Enforcing unpaid blight fines is a costly and tedious process, so the city wants to know: how can we increase blight ticket compliance?\n",
    "\n",
    "The first step in answering this question is understanding when and why a resident might fail to comply with a blight ticket. This is where predictive modeling comes in. For this assignment, your task is to predict whether a given blight ticket will be paid on time.\n",
    "\n",
    "All data for this assignment has been provided to us through the [Detroit Open Data Portal](https://data.detroitmi.gov/). **Only the data already included in your Coursera directory can be used for training the model for this assignment.** Nonetheless, we encourage you to look into data from other Detroit datasets to help inform feature creation and model selection. We recommend taking a look at the following related datasets:\n",
    "\n",
    "* [Building Permits](https://data.detroitmi.gov/Property-Parcels/Building-Permits/xw2a-a7tf)\n",
    "* [Trades Permits](https://data.detroitmi.gov/Property-Parcels/Trades-Permits/635b-dsgv)\n",
    "* [Improve Detroit: Submitted Issues](https://data.detroitmi.gov/Government/Improve-Detroit-Submitted-Issues/fwz3-w3yn)\n",
    "* [DPD: Citizen Complaints](https://data.detroitmi.gov/Public-Safety/DPD-Citizen-Complaints-2016/kahe-efs3)\n",
    "* [Parcel Map](https://data.detroitmi.gov/Property-Parcels/Parcel-Map/fxkw-udwf)\n",
    "\n",
    "___\n",
    "\n",
    "We provide you with two data files for use in training and validating your models: train.csv and test.csv. Each row in these two files corresponds to a single blight ticket, and includes information about when, why, and to whom each ticket was issued. The target variable is compliance, which is True if the ticket was paid early, on time, or within one month of the hearing data, False if the ticket was paid after the hearing date or not at all, and Null if the violator was found not responsible. Compliance, as well as a handful of other variables that will not be available at test-time, are only included in train.csv.\n",
    "\n",
    "Note: All tickets where the violators were found not responsible are not considered during evaluation. They are included in the training set as an additional source of data for visualization, and to enable unsupervised and semi-supervised approaches. However, they are not included in the test set.\n",
    "\n",
    "<br>\n",
    "\n",
    "**File descriptions** (Use only this data for training your model!)\n",
    "\n",
    "    readonly/train.csv - the training set (all tickets issued 2004-2011)\n",
    "    readonly/test.csv - the test set (all tickets issued 2012-2016)\n",
    "    readonly/addresses.csv & readonly/latlons.csv - mapping from ticket id to addresses, and from addresses to lat/lon coordinates. \n",
    "     Note: misspelled addresses may be incorrectly geolocated.\n",
    "\n",
    "<br>\n",
    "\n",
    "**Data fields**\n",
    "\n",
    "train.csv & test.csv\n",
    "\n",
    "    ticket_id - unique identifier for tickets\n",
    "    agency_name - Agency that issued the ticket\n",
    "    inspector_name - Name of inspector that issued the ticket\n",
    "    violator_name - Name of the person/organization that the ticket was issued to\n",
    "    violation_street_number, violation_street_name, violation_zip_code - Address where the violation occurred\n",
    "    mailing_address_str_number, mailing_address_str_name, city, state, zip_code, non_us_str_code, country - Mailing address of the violator\n",
    "    ticket_issued_date - Date and time the ticket was issued\n",
    "    hearing_date - Date and time the violator's hearing was scheduled\n",
    "    violation_code, violation_description - Type of violation\n",
    "    disposition - Judgment and judgement type\n",
    "    fine_amount - Violation fine amount, excluding fees\n",
    "    admin_fee - $20 fee assigned to responsible judgments\n",
    "state_fee - $10 fee assigned to responsible judgments\n",
    "    late_fee - 10% fee assigned to responsible judgments\n",
    "    discount_amount - discount applied, if any\n",
    "    clean_up_cost - DPW clean-up or graffiti removal cost\n",
    "    judgment_amount - Sum of all fines and fees\n",
    "    grafitti_status - Flag for graffiti violations\n",
    "    \n",
    "train.csv only\n",
    "\n",
    "    payment_amount - Amount paid, if any\n",
    "    payment_date - Date payment was made, if it was received\n",
    "    payment_status - Current payment status as of Feb 1 2017\n",
    "    balance_due - Fines and fees still owed\n",
    "    collection_status - Flag for payments in collections\n",
    "    compliance [target variable for prediction] \n",
    "     Null = Not responsible\n",
    "     0 = Responsible, non-compliant\n",
    "     1 = Responsible, compliant\n",
    "    compliance_detail - More information on why each ticket was marked compliant or non-compliant\n",
    "\n",
    "\n",
    "___\n",
    "\n",
    "## Evaluation\n",
    "\n",
    "Your predictions will be given as the probability that the corresponding blight ticket will be paid on time.\n",
    "\n",
    "The evaluation metric for this assignment is the Area Under the ROC Curve (AUC). \n",
    "\n",
    "Your grade will be based on the AUC score computed for your classifier. A model which with an AUROC of 0.7 passes this assignment, over 0.75 will recieve full points.\n",
    "___\n",
    "\n",
    "For this assignment, create a function that trains a model to predict blight ticket compliance in Detroit using `readonly/train.csv`. Using this model, return a series of length 61001 with the data being the probability that each corresponding ticket from `readonly/test.csv` will be paid, and the index being the ticket_id.\n",
    "\n",
    "Example:\n",
    "\n",
    "    ticket_id\n",
    "       284932    0.531842\n",
    "       285362    0.401958\n",
    "       285361    0.105928\n",
    "       285338    0.018572\n",
    "                 ...\n",
    "       376499    0.208567\n",
    "       376500    0.818759\n",
    "       369851    0.018528\n",
    "       Name: compliance, dtype: float32\n",
    "       \n",
    "### Hints\n",
    "\n",
    "* Make sure your code is working before submitting it to the autograder.\n",
    "\n",
    "* Print out your result to see whether there is anything weird (e.g., all probabilities are the same).\n",
    "\n",
    "* Generally the total runtime should be less than 10 mins. You should NOT use Neural Network related classifiers (e.g., MLPClassifier) in this question. \n",
    "\n",
    "* Try to avoid global variables. If you have other functions besides blight_model, you should move those functions inside the scope of blight_model.\n",
    "\n",
    "* Refer to the pinned threads in Week 4's discussion forum when there is something you could not figure it out."
   ]
  },
  {
   "cell_type": "markdown",
   "metadata": {},
   "source": [
    "## Packages"
   ]
  },
  {
   "cell_type": "code",
   "execution_count": 102,
   "metadata": {},
   "outputs": [],
   "source": [
    "import pandas as pd\n",
    "import numpy as np\n",
    "\n",
    "from sklearn.preprocessing import LabelEncoder\n",
    "from sklearn.ensemble import RandomForestClassifier\n",
    "from sklearn.model_selection import train_test_split, GridSearchCV\n",
    "from sklearn.metrics import roc_auc_score\n",
    "from sklearn.metrics import make_scorer\n",
    "\n",
    "from imblearn.over_sampling import SMOTE\n",
    "from imblearn.under_sampling import RandomUnderSampler\n"
   ]
  },
  {
   "cell_type": "markdown",
   "metadata": {},
   "source": [
    "## Loading data"
   ]
  },
  {
   "cell_type": "code",
   "execution_count": 103,
   "metadata": {},
   "outputs": [
    {
     "name": "stderr",
     "output_type": "stream",
     "text": [
      "C:\\Users\\elmog\\AppData\\Local\\Temp/ipykernel_17504/1581606953.py:2: DtypeWarning: Columns (11,12,31) have mixed types. Specify dtype option on import or set low_memory=False.\n",
      "  train = pd.read_csv('Data/train.csv', encoding = 'cp1252')\n"
     ]
    }
   ],
   "source": [
    "# load data\n",
    "train = pd.read_csv('Data/train.csv', encoding = 'cp1252')\n",
    "test = pd.read_csv('Data/test.csv')\n",
    "addresses = pd.read_csv('Data/addresses.csv')\n",
    "latlons = pd.read_csv('Data/latlons.csv')"
   ]
  },
  {
   "cell_type": "code",
   "execution_count": 104,
   "metadata": {},
   "outputs": [
    {
     "name": "stdout",
     "output_type": "stream",
     "text": [
      "<class 'pandas.core.frame.DataFrame'>\n",
      "RangeIndex: 250306 entries, 0 to 250305\n",
      "Data columns (total 34 columns):\n",
      " #   Column                      Non-Null Count   Dtype  \n",
      "---  ------                      --------------   -----  \n",
      " 0   ticket_id                   250306 non-null  int64  \n",
      " 1   agency_name                 250306 non-null  object \n",
      " 2   inspector_name              250306 non-null  object \n",
      " 3   violator_name               250272 non-null  object \n",
      " 4   violation_street_number     250306 non-null  float64\n",
      " 5   violation_street_name       250306 non-null  object \n",
      " 6   violation_zip_code          0 non-null       float64\n",
      " 7   mailing_address_str_number  246704 non-null  float64\n",
      " 8   mailing_address_str_name    250302 non-null  object \n",
      " 9   city                        250306 non-null  object \n",
      " 10  state                       250213 non-null  object \n",
      " 11  zip_code                    250305 non-null  object \n",
      " 12  non_us_str_code             3 non-null       object \n",
      " 13  country                     250306 non-null  object \n",
      " 14  ticket_issued_date          250306 non-null  object \n",
      " 15  hearing_date                237815 non-null  object \n",
      " 16  violation_code              250306 non-null  object \n",
      " 17  violation_description       250306 non-null  object \n",
      " 18  disposition                 250306 non-null  object \n",
      " 19  fine_amount                 250305 non-null  float64\n",
      " 20  admin_fee                   250306 non-null  float64\n",
      " 21  state_fee                   250306 non-null  float64\n",
      " 22  late_fee                    250306 non-null  float64\n",
      " 23  discount_amount             250306 non-null  float64\n",
      " 24  clean_up_cost               250306 non-null  float64\n",
      " 25  judgment_amount             250306 non-null  float64\n",
      " 26  payment_amount              250306 non-null  float64\n",
      " 27  balance_due                 250306 non-null  float64\n",
      " 28  payment_date                41113 non-null   object \n",
      " 29  payment_status              250306 non-null  object \n",
      " 30  collection_status           36897 non-null   object \n",
      " 31  grafitti_status             1 non-null       object \n",
      " 32  compliance_detail           250306 non-null  object \n",
      " 33  compliance                  159880 non-null  float64\n",
      "dtypes: float64(13), int64(1), object(20)\n",
      "memory usage: 64.9+ MB\n"
     ]
    }
   ],
   "source": [
    "train.info()"
   ]
  },
  {
   "cell_type": "code",
   "execution_count": 105,
   "metadata": {},
   "outputs": [],
   "source": [
    "# merge latlons and addresses with data\n",
    "train = pd.merge(train, pd.merge(addresses, latlons, on='address'), on='ticket_id')\n",
    "test = pd.merge(test, pd.merge(addresses, latlons, on='address'), on='ticket_id')"
   ]
  },
  {
   "cell_type": "markdown",
   "metadata": {},
   "source": [
    "## Features Analysis"
   ]
  },
  {
   "cell_type": "code",
   "execution_count": 106,
   "metadata": {},
   "outputs": [
    {
     "data": {
      "text/html": [
       "<div>\n",
       "<style scoped>\n",
       "    .dataframe tbody tr th:only-of-type {\n",
       "        vertical-align: middle;\n",
       "    }\n",
       "\n",
       "    .dataframe tbody tr th {\n",
       "        vertical-align: top;\n",
       "    }\n",
       "\n",
       "    .dataframe thead th {\n",
       "        text-align: right;\n",
       "    }\n",
       "</style>\n",
       "<table border=\"1\" class=\"dataframe\">\n",
       "  <thead>\n",
       "    <tr style=\"text-align: right;\">\n",
       "      <th></th>\n",
       "      <th>index</th>\n",
       "      <th>Null Percentage</th>\n",
       "    </tr>\n",
       "  </thead>\n",
       "  <tbody>\n",
       "    <tr>\n",
       "      <th>6</th>\n",
       "      <td>violation_zip_code</td>\n",
       "      <td>1.000000</td>\n",
       "    </tr>\n",
       "    <tr>\n",
       "      <th>31</th>\n",
       "      <td>grafitti_status</td>\n",
       "      <td>0.999996</td>\n",
       "    </tr>\n",
       "    <tr>\n",
       "      <th>12</th>\n",
       "      <td>non_us_str_code</td>\n",
       "      <td>0.999988</td>\n",
       "    </tr>\n",
       "    <tr>\n",
       "      <th>30</th>\n",
       "      <td>collection_status</td>\n",
       "      <td>0.852592</td>\n",
       "    </tr>\n",
       "    <tr>\n",
       "      <th>28</th>\n",
       "      <td>payment_date</td>\n",
       "      <td>0.835749</td>\n",
       "    </tr>\n",
       "    <tr>\n",
       "      <th>33</th>\n",
       "      <td>compliance</td>\n",
       "      <td>0.361262</td>\n",
       "    </tr>\n",
       "    <tr>\n",
       "      <th>15</th>\n",
       "      <td>hearing_date</td>\n",
       "      <td>0.049903</td>\n",
       "    </tr>\n",
       "    <tr>\n",
       "      <th>7</th>\n",
       "      <td>mailing_address_str_number</td>\n",
       "      <td>0.014390</td>\n",
       "    </tr>\n",
       "    <tr>\n",
       "      <th>10</th>\n",
       "      <td>state</td>\n",
       "      <td>0.000372</td>\n",
       "    </tr>\n",
       "    <tr>\n",
       "      <th>3</th>\n",
       "      <td>violator_name</td>\n",
       "      <td>0.000136</td>\n",
       "    </tr>\n",
       "    <tr>\n",
       "      <th>8</th>\n",
       "      <td>mailing_address_str_name</td>\n",
       "      <td>0.000016</td>\n",
       "    </tr>\n",
       "    <tr>\n",
       "      <th>35</th>\n",
       "      <td>lat</td>\n",
       "      <td>0.000012</td>\n",
       "    </tr>\n",
       "    <tr>\n",
       "      <th>36</th>\n",
       "      <td>lon</td>\n",
       "      <td>0.000012</td>\n",
       "    </tr>\n",
       "    <tr>\n",
       "      <th>11</th>\n",
       "      <td>zip_code</td>\n",
       "      <td>0.000004</td>\n",
       "    </tr>\n",
       "    <tr>\n",
       "      <th>19</th>\n",
       "      <td>fine_amount</td>\n",
       "      <td>0.000004</td>\n",
       "    </tr>\n",
       "  </tbody>\n",
       "</table>\n",
       "</div>"
      ],
      "text/plain": [
       "                         index  Null Percentage\n",
       "6           violation_zip_code         1.000000\n",
       "31             grafitti_status         0.999996\n",
       "12             non_us_str_code         0.999988\n",
       "30           collection_status         0.852592\n",
       "28                payment_date         0.835749\n",
       "33                  compliance         0.361262\n",
       "15                hearing_date         0.049903\n",
       "7   mailing_address_str_number         0.014390\n",
       "10                       state         0.000372\n",
       "3                violator_name         0.000136\n",
       "8     mailing_address_str_name         0.000016\n",
       "35                         lat         0.000012\n",
       "36                         lon         0.000012\n",
       "11                    zip_code         0.000004\n",
       "19                 fine_amount         0.000004"
      ]
     },
     "execution_count": 106,
     "metadata": {},
     "output_type": "execute_result"
    }
   ],
   "source": [
    "# Checking Nulls\n",
    "nulls_df = train.isna().sum().reset_index().rename(columns = {0 : 'Null count'})\n",
    "nulls_df = nulls_df[nulls_df['Null count'] > 0].sort_values(by = 'Null count', ascending=False)\n",
    "nulls_df = nulls_df.rename(columns = {'Null count': 'Null Percentage'})\n",
    "nulls_df['Null Percentage'] = nulls_df['Null Percentage'] / train.shape[0]\n",
    "nulls_df"
   ]
  },
  {
   "cell_type": "code",
   "execution_count": 107,
   "metadata": {},
   "outputs": [],
   "source": [
    "# Features that should be hidden\n",
    "hidden_info = ['ticket_id', 'agency_name', 'inspector_name', 'violator_name', 'violation_street_number', 'violation_street_name', 'violation_zip_code', 'zip_code', 'mailing_address_str_number', 'non_us_str_code', 'mailing_address_str_name', 'city', 'state', 'country', 'hearing_date', 'ticket_issued_date', 'violation_description', 'address']\n",
    "\n",
    "# Features to be dropped\n",
    "features_with_many_nulls = ['grafitti_status']\n",
    "\n",
    "# Features with rows containing null values\n",
    "features_with_rows_to_be_dropped = ['compliance']\n",
    "\n",
    "# Features with rows containing null values that will be imputed\n",
    "features_to_be_imputed = ['fine_amount', 'lat', 'lon']\n",
    "\n",
    "# Features that may cause data leakage\n",
    "columns_cause_data_leakage = ['compliance_detail', 'collection_status']\n",
    "\n",
    "# Features that are in train data and not found in test data\n",
    "features_not_in_test = ['payment_amount', 'balance_due', 'payment_status', 'payment_date']"
   ]
  },
  {
   "cell_type": "code",
   "execution_count": 108,
   "metadata": {},
   "outputs": [],
   "source": [
    "# Drop unnecessary features\n",
    "train = train.drop(columns=(hidden_info + columns_cause_data_leakage + features_not_in_test + features_with_many_nulls))\n",
    "test = test.drop(columns = (list(set(hidden_info) - set(['ticket_id'])) + features_with_many_nulls))\n",
    "\n",
    "# Drop rows with null values\n",
    "train = train.dropna(axis=0, subset=features_with_rows_to_be_dropped)\n",
    "\n",
    "# Impute values of 'fine_amount', 'lat', 'lon'\n",
    "train['fine_amount'] = train['fine_amount'].fillna(train['fine_amount'].median())\n",
    "train['lat'] = train['lat'].fillna(train['lat'].mean())\n",
    "train['lon'] = train['lon'].fillna(train['lon'].mean())\n",
    "test['lat'] = test['lat'].fillna(train['lat'].mean())\n",
    "test['lon'] = test['lon'].fillna(test['lon'].mean())"
   ]
  },
  {
   "cell_type": "code",
   "execution_count": 109,
   "metadata": {},
   "outputs": [
    {
     "name": "stdout",
     "output_type": "stream",
     "text": [
      "<class 'pandas.core.frame.DataFrame'>\n",
      "Int64Index: 159880 entries, 0 to 250293\n",
      "Data columns (total 12 columns):\n",
      " #   Column           Non-Null Count   Dtype  \n",
      "---  ------           --------------   -----  \n",
      " 0   violation_code   159880 non-null  object \n",
      " 1   disposition      159880 non-null  object \n",
      " 2   fine_amount      159880 non-null  float64\n",
      " 3   admin_fee        159880 non-null  float64\n",
      " 4   state_fee        159880 non-null  float64\n",
      " 5   late_fee         159880 non-null  float64\n",
      " 6   discount_amount  159880 non-null  float64\n",
      " 7   clean_up_cost    159880 non-null  float64\n",
      " 8   judgment_amount  159880 non-null  float64\n",
      " 9   compliance       159880 non-null  float64\n",
      " 10  lat              159880 non-null  float64\n",
      " 11  lon              159880 non-null  float64\n",
      "dtypes: float64(10), object(2)\n",
      "memory usage: 15.9+ MB\n"
     ]
    }
   ],
   "source": [
    "train.info()"
   ]
  },
  {
   "cell_type": "code",
   "execution_count": 110,
   "metadata": {},
   "outputs": [
    {
     "name": "stdout",
     "output_type": "stream",
     "text": [
      "<class 'pandas.core.frame.DataFrame'>\n",
      "Int64Index: 61001 entries, 0 to 61000\n",
      "Data columns (total 12 columns):\n",
      " #   Column           Non-Null Count  Dtype  \n",
      "---  ------           --------------  -----  \n",
      " 0   ticket_id        61001 non-null  int64  \n",
      " 1   violation_code   61001 non-null  object \n",
      " 2   disposition      61001 non-null  object \n",
      " 3   fine_amount      61001 non-null  float64\n",
      " 4   admin_fee        61001 non-null  float64\n",
      " 5   state_fee        61001 non-null  float64\n",
      " 6   late_fee         61001 non-null  float64\n",
      " 7   discount_amount  61001 non-null  float64\n",
      " 8   clean_up_cost    61001 non-null  float64\n",
      " 9   judgment_amount  61001 non-null  float64\n",
      " 10  lat              61001 non-null  float64\n",
      " 11  lon              61001 non-null  float64\n",
      "dtypes: float64(9), int64(1), object(2)\n",
      "memory usage: 6.1+ MB\n"
     ]
    }
   ],
   "source": [
    "test.info()"
   ]
  },
  {
   "cell_type": "markdown",
   "metadata": {},
   "source": [
    "## Encoding categorical data"
   ]
  },
  {
   "cell_type": "code",
   "execution_count": 111,
   "metadata": {},
   "outputs": [
    {
     "data": {
      "text/plain": [
       "array(['Responsible by Default', 'Responsible by Determination',\n",
       "       'Responsible by Admission', 'Responsible (Fine Waived) by Deter'],\n",
       "      dtype=object)"
      ]
     },
     "execution_count": 111,
     "metadata": {},
     "output_type": "execute_result"
    }
   ],
   "source": [
    "train['disposition'].unique()"
   ]
  },
  {
   "cell_type": "code",
   "execution_count": 112,
   "metadata": {},
   "outputs": [
    {
     "data": {
      "text/plain": [
       "array(['9-1-36(a)', '61-63.0600', '61-63.0500', '61-63.0100',\n",
       "       '9-1-103(C)', '22-2-83(a)(b)(c)', '22-2-21(b)', '9-1-36(c)',\n",
       "       '22-2-17', '22-2-23', '61-47.0000/47.0108', '61-90.0100',\n",
       "       '22-2-88', '19450901', '22-2-43', '9-1-355', '22-2-83', '22-2-22',\n",
       "       '22-2-45', '9-1-110(a)', '22-2-88(a)', '9-1-104', '9-1-105',\n",
       "       '22-2-61', '9-1-201(a)', '9-1-209', '61-130.0000/130.0400',\n",
       "       '22-2-41', '9-1-101', '9-1-43(a) - (Dwellin', '9-1-205', '9-1-206',\n",
       "       '9-1-107', '9-1-201(b)', '9-1-210', '9-1-220', '20130901',\n",
       "       '9-1-214', '9-1-103 (a) or (b)', '9-1-477', '9-1-211', '9-1-204',\n",
       "       '9-1-310', '9-1-208', '9-1-81(a)', '9-1-476', '22-2-44', '9-1-303',\n",
       "       '22-2-49', '9-1-111', '22-2-16', '9-1-221', '22-2-20', '9-1-36(d)',\n",
       "       '61-80.0100', '9-1-106', '9-1-108', '9-1-43(a) - (Structu',\n",
       "       '61-82.0100/32.0066', '61-81.0100/45.0807', '22-2-84(a)(1)(2)(4)',\n",
       "       '22-2-87(a)', '22-2-56', '19830901', '61-81.0100/32.0066',\n",
       "       '61-130.0000/130.0500', '9-1-216', '9-1-43(a) - (Stories',\n",
       "       '9-1-304', '9-1-102', '9-1-212', '22-2-38', '22-2-84 (DO NOT USE ',\n",
       "       '9-1-207', '9-1-354', '9-1-306', '61-83.0100/32.0066',\n",
       "       '61-111.0100/32.0066', '61-121.0100/32.0066',\n",
       "       '61-120.0100/32.0066', '9-1-464', '9-1-441', '9-1-441(a)',\n",
       "       '9-1-462(a)', '9-1-474', '9-1-432(a)', '9-1-213', '22-2-55',\n",
       "       '9-1-110(b)', '9-1-440', '22-2-87', '22-2-53', '9-1-81(b)',\n",
       "       '9-1-301', '9-1-331', '9-1-202', '9-1-442', '9-1-351', '9-1-406',\n",
       "       '22-2-97(b)', '9-1-311', '61-101.0100/32.0066', '9-1-478',\n",
       "       '9-1-439', '9-1-375', '9-1-469', '9-1-465', '9-1-443(a)',\n",
       "       '9-1-309', '9-1-305', '9-1-443(b)', '61-4-33', '22-2-18',\n",
       "       '61-4-32', '9-1-45(c)', '9-1-45(b)', '9-1-46(a)', '22-2-91',\n",
       "       '9-1-468', '9-1-405', '9-1-219', '61-114.0100', '22-2-42',\n",
       "       '22-2-96', '9-1-307', '19840901', '9-1-377', '9-1-81(e)',\n",
       "       '19850901', '9-1-353(2)', '61-8-127', '9-1-12(b)', '61-8-27',\n",
       "       '20180901', '9-1-109', '9-1-333', '9-1-112', '61-5-19', '61-5-21',\n",
       "       '22-3-2', '22-2-93', '61-8-47', '22-2-85', '22-2-94', '9-1-352',\n",
       "       '9-1-203', '61-5-18', '22-2-21(a)', '61-118.0100/32.0066',\n",
       "       '22-2-84(b)(3)', '61-83.0100/32.0031', '61-86.0100/32.0076B',\n",
       "       '61-86.0100/32.0066', '61-82.0100/32.0031', '61-104.0100',\n",
       "       '9-1-503', '61-86.0100/45.0807', '61-45.0000/45.0800', '61-4-35',\n",
       "       '61-4-37', '19420901', '9-1-502', '22-2-88(b)', '22-2-22(a)',\n",
       "       '22-2-17(a)', '22-2-83(c)', '22-2-83(b)', '22-2-83(d)',\n",
       "       '22-2-84(a)', '22-2-49(a)', '22-2-49(c)', '61-84.0100/45.0807',\n",
       "       '61-84.0100/32.0066', '9-1-82(d) - (Structu',\n",
       "       '9-1-82(d) - (Dwellin', '9-1-83 - (Dwelling)',\n",
       "       '9-1-82(d) - (Buildin', '9-1-83 - (Structures', '9-1-434',\n",
       "       '9-1-332', '9-1-82(b)', '9-1-83 - (Building 5', '22-2-49(d)',\n",
       "       '9-1-50 (e)', '9-1-113', '9-1-50(b)', '20160901', '9-1-50(a)',\n",
       "       '22-2-49(b)'], dtype=object)"
      ]
     },
     "execution_count": 112,
     "metadata": {},
     "output_type": "execute_result"
    }
   ],
   "source": [
    "train['violation_code'].unique()"
   ]
  },
  {
   "cell_type": "code",
   "execution_count": 113,
   "metadata": {},
   "outputs": [
    {
     "name": "stderr",
     "output_type": "stream",
     "text": [
      "C:\\Users\\elmog\\AppData\\Local\\Temp/ipykernel_17504/3959255438.py:2: FutureWarning: The series.append method is deprecated and will be removed from pandas in a future version. Use pandas.concat instead.\n",
      "  label_encoder.fit(train['disposition'].append(test['disposition'], ignore_index=True))\n",
      "C:\\Users\\elmog\\AppData\\Local\\Temp/ipykernel_17504/3959255438.py:5: FutureWarning: The series.append method is deprecated and will be removed from pandas in a future version. Use pandas.concat instead.\n",
      "  label_encoder.fit(train['violation_code'].append(test['violation_code'], ignore_index=True))\n"
     ]
    }
   ],
   "source": [
    "label_encoder = LabelEncoder()\n",
    "label_encoder.fit(train['disposition'].append(test['disposition'], ignore_index=True))\n",
    "train['disposition'] = label_encoder.transform(train['disposition'])\n",
    "test['disposition'] = label_encoder.transform(test['disposition'])\n",
    "label_encoder.fit(train['violation_code'].append(test['violation_code'], ignore_index=True))\n",
    "train['violation_code'] = label_encoder.transform(train['violation_code'])\n",
    "test['violation_code'] = label_encoder.transform(test['violation_code'])"
   ]
  },
  {
   "cell_type": "markdown",
   "metadata": {},
   "source": [
    "## Handeling classes imbalance"
   ]
  },
  {
   "cell_type": "code",
   "execution_count": 114,
   "metadata": {},
   "outputs": [
    {
     "data": {
      "text/plain": [
       "0.0    148283\n",
       "1.0     11597\n",
       "Name: compliance, dtype: int64"
      ]
     },
     "execution_count": 114,
     "metadata": {},
     "output_type": "execute_result"
    }
   ],
   "source": [
    "# Checking classes imbalance\n",
    "train['compliance'].value_counts()"
   ]
  },
  {
   "cell_type": "code",
   "execution_count": 115,
   "metadata": {},
   "outputs": [],
   "source": [
    "X = train[list(set(train.columns.to_list()) - set(['compliance']))]\n",
    "y = train['compliance']"
   ]
  },
  {
   "cell_type": "code",
   "execution_count": 116,
   "metadata": {},
   "outputs": [],
   "source": [
    "# Resampling\n",
    "# Applying over/under sampling\n",
    "over = SMOTE(sampling_strategy = {1:50000}, k_neighbors=2, random_state=42)\n",
    "X_res, y_res = over.fit_resample(X ,y)\n",
    "under = RandomUnderSampler(sampling_strategy = {0:50000}, random_state=42)\n",
    "X, y = under.fit_resample(X_res, y_res)"
   ]
  },
  {
   "cell_type": "code",
   "execution_count": 117,
   "metadata": {},
   "outputs": [
    {
     "data": {
      "text/plain": [
       "0.0    50000\n",
       "1.0    50000\n",
       "Name: compliance, dtype: int64"
      ]
     },
     "execution_count": 117,
     "metadata": {},
     "output_type": "execute_result"
    }
   ],
   "source": [
    "y.value_counts()"
   ]
  },
  {
   "cell_type": "markdown",
   "metadata": {},
   "source": [
    "## Train/test splits"
   ]
  },
  {
   "cell_type": "code",
   "execution_count": 118,
   "metadata": {},
   "outputs": [],
   "source": [
    "# train the model\n",
    "X_train, X_test, y_train, y_test = train_test_split(X, y, test_size=0.1, random_state=0)"
   ]
  },
  {
   "cell_type": "markdown",
   "metadata": {},
   "source": [
    "## Training and tuning model parameters"
   ]
  },
  {
   "cell_type": "code",
   "execution_count": 52,
   "metadata": {},
   "outputs": [
    {
     "name": "stdout",
     "output_type": "stream",
     "text": [
      "Fitting 10 folds for each of 300 candidates, totalling 3000 fits\n"
     ]
    },
    {
     "name": "stderr",
     "output_type": "stream",
     "text": [
      "E:\\anaconda3\\lib\\site-packages\\sklearn\\ensemble\\_forest.py:427: FutureWarning: `max_features='auto'` has been deprecated in 1.1 and will be removed in 1.3. To keep the past behaviour, explicitly set `max_features='sqrt'` or remove this parameter as it is also the default value for RandomForestClassifiers and ExtraTreesClassifiers.\n",
      "  warn(\n"
     ]
    }
   ],
   "source": [
    "# Grid Search for finding best parameters for random forest classifier\n",
    "\n",
    "# Number of trees in random forest\n",
    "n_estimators = [int(x) for x in np.linspace(start = 100, stop = 1000, num = 10)]\n",
    "\n",
    "# Number of features to consider at every split\n",
    "max_features = ['auto', 'sqrt']\n",
    "\n",
    "# Maximum number of levels in tree\n",
    "max_depth = [int(x) for x in np.linspace(5, 50, num = 5)]\n",
    "\n",
    "# Maximum the number of samples to draw from X to train each base estimator\n",
    "max_samples = [1000, 1250, 1500]\n",
    "\n",
    "# Create the random grid\n",
    "random_grid = {'n_estimators': n_estimators,\n",
    "               'max_features': max_features,\n",
    "               'max_depth': max_depth,\n",
    "               'max_samples': max_samples}\n",
    "\n",
    "scorer = make_scorer(roc_auc_score)\n",
    "\n",
    "rf = RandomForestClassifier(bootstrap=True, n_jobs=-1, random_state = 2022)\n",
    "\n",
    "# Instantiate the grid search model\n",
    "grid_search = GridSearchCV(estimator = rf, \n",
    "                           param_grid = random_grid, \n",
    "                           scoring = scorer, \n",
    "                           cv = 10,\n",
    "                           n_jobs = -1, \n",
    "                           verbose = 2).fit(X, y)"
   ]
  },
  {
   "cell_type": "code",
   "execution_count": 53,
   "metadata": {},
   "outputs": [
    {
     "data": {
      "text/plain": [
       "{'max_depth': 38,\n",
       " 'max_features': 'auto',\n",
       " 'max_samples': 1500,\n",
       " 'n_estimators': 900}"
      ]
     },
     "execution_count": 53,
     "metadata": {},
     "output_type": "execute_result"
    }
   ],
   "source": [
    "# Best hyperparameters from the grid search\n",
    "grid_search.best_params_"
   ]
  },
  {
   "cell_type": "code",
   "execution_count": 119,
   "metadata": {},
   "outputs": [
    {
     "name": "stderr",
     "output_type": "stream",
     "text": [
      "E:\\anaconda3\\lib\\site-packages\\sklearn\\ensemble\\_forest.py:427: FutureWarning: `max_features='auto'` has been deprecated in 1.1 and will be removed in 1.3. To keep the past behaviour, explicitly set `max_features='sqrt'` or remove this parameter as it is also the default value for RandomForestClassifiers and ExtraTreesClassifiers.\n",
      "  warn(\n"
     ]
    },
    {
     "name": "stdout",
     "output_type": "stream",
     "text": [
      "AUC =  0.759770806253316\n"
     ]
    }
   ],
   "source": [
    "# Random Forest classifier\n",
    "rf_clf = RandomForestClassifier(max_depth= 38, \n",
    "                                n_estimators= 1000, \n",
    "                                random_state=2022,\n",
    "                                max_samples=1500, \n",
    "                                max_features='auto',\n",
    "                                bootstrap=True, \n",
    "                                n_jobs=-1)\n",
    "\n",
    "rf_clf.fit(X_train, y_train)\n",
    "rf_y_pred = rf_clf.predict(X_test)\n",
    "rf_y_pred_prob = rf_clf.predict_proba(X_test)[:, [1]]\n",
    "print(\"AUC = \", roc_auc_score(y_test, rf_y_pred))"
   ]
  },
  {
   "cell_type": "markdown",
   "metadata": {},
   "source": [
    "## Predicted probabilities for test observations"
   ]
  },
  {
   "cell_type": "code",
   "execution_count": 120,
   "metadata": {},
   "outputs": [
    {
     "name": "stderr",
     "output_type": "stream",
     "text": [
      "E:\\anaconda3\\lib\\site-packages\\sklearn\\base.py:493: FutureWarning: The feature names should match those that were passed during fit. Starting version 1.2, an error will be raised.\n",
      "Feature names must be in the same order as they were in fit.\n",
      "\n",
      "  warnings.warn(message, FutureWarning)\n"
     ]
    }
   ],
   "source": [
    "rf_test_prob = rf_clf.predict_proba(test[list(set(test.columns.to_list()) - set(['ticket_id']))])[:, [1]]"
   ]
  },
  {
   "cell_type": "code",
   "execution_count": 121,
   "metadata": {},
   "outputs": [
    {
     "data": {
      "text/plain": [
       "ticket_id\n",
       "284932    0.473\n",
       "285362    0.291\n",
       "285361    0.465\n",
       "285338    0.508\n",
       "285346    0.571\n",
       "          ...  \n",
       "376496    0.238\n",
       "376497    0.238\n",
       "376499    0.537\n",
       "376500    0.536\n",
       "369851    0.517\n",
       "Name: compliance, Length: 61001, dtype: float64"
      ]
     },
     "execution_count": 121,
     "metadata": {},
     "output_type": "execute_result"
    }
   ],
   "source": [
    "result = pd.DataFrame(rf_test_prob, test.ticket_id).loc[:, 0].rename('compliance')\n",
    "result"
   ]
  },
  {
   "cell_type": "markdown",
   "metadata": {},
   "source": [
    "# `Final function to be submitted`"
   ]
  },
  {
   "cell_type": "code",
   "execution_count": 124,
   "metadata": {},
   "outputs": [],
   "source": [
    "import pandas as pd\n",
    "import numpy as np\n",
    "\n",
    "def blight_model():\n",
    "    \n",
    "    # Your code here\n",
    "    from sklearn.preprocessing import LabelEncoder\n",
    "    from sklearn.ensemble import RandomForestRegressor\n",
    "    from sklearn.model_selection import train_test_split, GridSearchCV\n",
    "    from sklearn.metrics import roc_auc_score\n",
    "    \n",
    "    # load data\n",
    "    train = pd.read_csv('Data/train.csv', encoding = 'cp1252')\n",
    "    test = pd.read_csv('Data/test.csv')\n",
    "    addresses = pd.read_csv('Data/addresses.csv')\n",
    "    latlons = pd.read_csv('Data/latlons.csv')\n",
    "    \n",
    "    \n",
    "    # merge latlons and addresses with data\n",
    "    train = pd.merge(train, pd.merge(addresses, latlons, on='address'), on='ticket_id')\n",
    "    test = pd.merge(test, pd.merge(addresses, latlons, on='address'), on='ticket_id')\n",
    "    \n",
    "    # Feature analysis\n",
    "    hidden_info = ['ticket_id', 'agency_name', 'inspector_name', 'violator_name', 'violation_street_number', 'violation_street_name', 'violation_zip_code', 'zip_code', 'mailing_address_str_number', 'non_us_str_code', 'mailing_address_str_name', 'city', 'state', 'country', 'hearing_date', 'ticket_issued_date', 'violation_description', 'address']\n",
    "    features_with_many_nulls = ['grafitti_status']\n",
    "    columns_cause_data_leakage = ['compliance_detail', 'collection_status']\n",
    "    features_with_rows_to_be_dropped = ['compliance']\n",
    "    features_not_in_test = ['payment_amount', 'balance_due', 'payment_status', 'payment_date']\n",
    "    features_to_be_imputed = ['fine_amount', 'lat', 'lon']\n",
    "    \n",
    "    # Handeling Nulls\n",
    "    train = train.drop((hidden_info + columns_cause_data_leakage + features_not_in_test + features_with_many_nulls), axis=1)\n",
    "    test = test.drop(columns = (list(set(hidden_info) - set(['ticket_id'])) + features_with_many_nulls))\n",
    "    train = train.dropna(axis=0, subset=features_with_rows_to_be_dropped)\n",
    "    \n",
    "    train['fine_amount'] = train['fine_amount'].fillna(train['fine_amount'].median())\n",
    "    train['lat'] = train['lat'].fillna(train['lat'].mean())\n",
    "    train['lon'] = train['lon'].fillna(train['lon'].mean())\n",
    "    test['lat'] = test['lat'].fillna(train['lat'].mean())\n",
    "    test['lon'] = test['lon'].fillna(test['lon'].mean())\n",
    "    \n",
    "    # Encoding categorical data\n",
    "    label_encoder = LabelEncoder()\n",
    "    label_encoder.fit(train['disposition'].append(test['disposition'], ignore_index=True))\n",
    "    train['disposition'] = label_encoder.transform(train['disposition'])\n",
    "    test['disposition'] = label_encoder.transform(test['disposition'])\n",
    "    label_encoder.fit(train['violation_code'].append(test['violation_code'], ignore_index=True))\n",
    "    train['violation_code'] = label_encoder.transform(train['violation_code'])\n",
    "    test['violation_code'] = label_encoder.transform(test['violation_code'])\n",
    "    \n",
    "    # Splitting features and target\n",
    "    X = train[list(set(train.columns.to_list()) - set(['compliance']))]\n",
    "    y = train['compliance']\n",
    "    \n",
    "    # Handeling classes imbalance\n",
    "    from imblearn.over_sampling import SMOTE\n",
    "    from imblearn.under_sampling import RandomUnderSampler\n",
    "\n",
    "    over = SMOTE(sampling_strategy = {1:50000}, k_neighbors=2, random_state=42)\n",
    "    X_res, y_res = over.fit_resample(X ,y)\n",
    "    under = RandomUnderSampler(sampling_strategy = {0:50000}, random_state=42)\n",
    "    X, y = under.fit_resample(X_res, y_res)\n",
    "    \n",
    "    # Training\n",
    "    from sklearn.ensemble import RandomForestClassifier\n",
    "    from sklearn.metrics import f1_score, roc_auc_score\n",
    "\n",
    "    rf_clf = RandomForestClassifier(n_estimators=900,\n",
    "                                    max_depth=38,\n",
    "                                    max_features='auto',\n",
    "                                    n_jobs=-1, \n",
    "                                    max_samples=1500,\n",
    "                                    bootstrap=True,\n",
    "                                    random_state = 2022)\n",
    "\n",
    "    rf_clf.fit(X_train, y_train)\n",
    "    \n",
    "    # Predicting probability\n",
    "    pred_proba = rf_clf.predict_proba(test[list(set(test.columns.to_list()) - set(['ticket_id']))])[:, [1]]\n",
    "    \n",
    "    \n",
    "    \n",
    "    return pd.DataFrame(pred_proba, test.ticket_id).loc[:, 0].rename('compliance')"
   ]
  },
  {
   "cell_type": "code",
   "execution_count": 125,
   "metadata": {},
   "outputs": [
    {
     "name": "stderr",
     "output_type": "stream",
     "text": [
      "C:\\Users\\elmog\\AppData\\Local\\Temp/ipykernel_17504/2890030489.py:13: DtypeWarning: Columns (11,12,31) have mixed types. Specify dtype option on import or set low_memory=False.\n",
      "  train = pd.read_csv('Data/train.csv', encoding = 'cp1252')\n",
      "C:\\Users\\elmog\\AppData\\Local\\Temp/ipykernel_17504/2890030489.py:44: FutureWarning: The series.append method is deprecated and will be removed from pandas in a future version. Use pandas.concat instead.\n",
      "  label_encoder.fit(train['disposition'].append(test['disposition'], ignore_index=True))\n",
      "C:\\Users\\elmog\\AppData\\Local\\Temp/ipykernel_17504/2890030489.py:47: FutureWarning: The series.append method is deprecated and will be removed from pandas in a future version. Use pandas.concat instead.\n",
      "  label_encoder.fit(train['violation_code'].append(test['violation_code'], ignore_index=True))\n",
      "E:\\anaconda3\\lib\\site-packages\\sklearn\\ensemble\\_forest.py:427: FutureWarning: `max_features='auto'` has been deprecated in 1.1 and will be removed in 1.3. To keep the past behaviour, explicitly set `max_features='sqrt'` or remove this parameter as it is also the default value for RandomForestClassifiers and ExtraTreesClassifiers.\n",
      "  warn(\n",
      "E:\\anaconda3\\lib\\site-packages\\sklearn\\base.py:493: FutureWarning: The feature names should match those that were passed during fit. Starting version 1.2, an error will be raised.\n",
      "Feature names must be in the same order as they were in fit.\n",
      "\n",
      "  warnings.warn(message, FutureWarning)\n"
     ]
    },
    {
     "data": {
      "text/plain": [
       "ticket_id\n",
       "284932    0.467778\n",
       "285362    0.283333\n",
       "285361    0.456667\n",
       "285338    0.510000\n",
       "285346    0.566667\n",
       "            ...   \n",
       "376496    0.232222\n",
       "376497    0.232222\n",
       "376499    0.537778\n",
       "376500    0.536667\n",
       "369851    0.513333\n",
       "Name: compliance, Length: 61001, dtype: float64"
      ]
     },
     "execution_count": 125,
     "metadata": {},
     "output_type": "execute_result"
    }
   ],
   "source": [
    "blight_model()"
   ]
  },
  {
   "cell_type": "markdown",
   "metadata": {},
   "source": [
    "### Note\n",
    "- `imblearn` module may not work on coursera"
   ]
  },
  {
   "cell_type": "code",
   "execution_count": null,
   "metadata": {},
   "outputs": [],
   "source": []
  }
 ],
 "metadata": {
  "coursera": {
   "course_slug": "python-machine-learning",
   "graded_item_id": "nNS8l",
   "launcher_item_id": "yWWk7",
   "part_id": "w8BSS"
  },
  "kernelspec": {
   "display_name": "Python 3 (ipykernel)",
   "language": "python",
   "name": "python3"
  },
  "language_info": {
   "codemirror_mode": {
    "name": "ipython",
    "version": 3
   },
   "file_extension": ".py",
   "mimetype": "text/x-python",
   "name": "python",
   "nbconvert_exporter": "python",
   "pygments_lexer": "ipython3",
   "version": "3.9.7"
  }
 },
 "nbformat": 4,
 "nbformat_minor": 2
}
